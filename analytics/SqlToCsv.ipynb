{
 "cells": [
  {
   "cell_type": "code",
   "execution_count": null,
   "metadata": {
    "collapsed": false
   },
   "outputs": [],
   "source": [
    "import sqlite3\n",
    "import sklearn.metrics\n",
    "import statsmodels.stats.inter_rater\n",
    "import pandas as pd"
   ]
  },
  {
   "cell_type": "markdown",
   "metadata": {},
   "source": [
    "# Connect to SQLite DB"
   ]
  },
  {
   "cell_type": "code",
   "execution_count": null,
   "metadata": {
    "collapsed": false
   },
   "outputs": [],
   "source": [
    "conn = sqlite3.connect('database.sqlite3')\n",
    "c = conn.cursor()"
   ]
  },
  {
   "cell_type": "markdown",
   "metadata": {},
   "source": [
    "# Get Labelers"
   ]
  },
  {
   "cell_type": "code",
   "execution_count": null,
   "metadata": {
    "collapsed": false
   },
   "outputs": [],
   "source": [
    "userMap = {}\n",
    "for userRow in c.execute(\"SELECT userId, fname, lname FROM users\"):\n",
    "    userName = \"%s %s\" % (userRow[1], userRow[2])\n",
    "    userMap[userRow[0]] = userName\n",
    "    print(userRow[0], userName)\n",
    "#print userMap"
   ]
  },
  {
   "cell_type": "markdown",
   "metadata": {},
   "source": [
    "# Get Tasks"
   ]
  },
  {
   "cell_type": "code",
   "execution_count": null,
   "metadata": {
    "collapsed": false
   },
   "outputs": [],
   "source": [
    "for taskRow in c.execute(\"SELECT taskId, taskName, taskType FROM tasks\"):\n",
    "    print(\"Task ID:\", taskRow[0], \"Type:\", taskRow[2], \"Name:\", taskRow[1])"
   ]
  },
  {
   "cell_type": "markdown",
   "metadata": {},
   "source": [
    "# Convert SQL Labels to CSV File\n",
    "\n",
    "Each task will be dumped to a CSV file. Each CSV file will contain rows, one row for each user-label pair for each labeled element in that task."
   ]
  },
  {
   "cell_type": "code",
   "execution_count": null,
   "metadata": {
    "collapsed": false,
    "scrolled": false
   },
   "outputs": [],
   "source": [
    "taskRows = c.execute(\"SELECT taskId, taskName FROM tasks WHERE taskType == 2\").fetchall()\n",
    "\n",
    "for r in taskRows:\n",
    "    taskName = r[1]\n",
    "    taskId = r[0]\n",
    "    \n",
    "    # Task name\n",
    "    print(\"Task Name:\", taskName)\n",
    "    \n",
    "    # Get the number of elements you want to label\n",
    "    eCount = c.execute(\"SELECT COUNT(*) FROM elements WHERE taskId = ?\", (taskId, )).fetchone()\n",
    "    print(\"Number of Elements to Label:\", eCount[0])\n",
    "    \n",
    "    # How many labels do we actually have?\n",
    "    #  Each user contributes a label, so this number could be at max:\n",
    "    #  number of labelers * number of elements to label\n",
    "    lCount = c.execute(\"SELECT COUNT(*) \" + \\\n",
    "                           \"FROM elementLabels el JOIN elements e \" + \\\n",
    "                               \"ON e.elementId = el.elementId \" + \\\n",
    "                            \"WHERE e.taskId = ?\", \n",
    "                       (taskId, )).fetchone()\n",
    "    print(\"Number of Labels:\", lCount[0])\n",
    "    \n",
    "    # Print the users who participated in this task\n",
    "    userLabelCounts = {}\n",
    "    print(\"Users who Labeled:\")\n",
    "    labelerList = c.execute(\"SELECT DISTINCT userId \" + \\\n",
    "                           \"FROM elementLabels el JOIN elements e \" + \\\n",
    "                               \"ON e.elementId = el.elementId \" + \\\n",
    "                            \"WHERE e.taskId = ?\", \n",
    "                       (taskId, )).fetchall()\n",
    "    labelerList = list(map(lambda x: x[0], labelerList))\n",
    "    for labelerId in labelerList:\n",
    "        name = userMap[labelerId]\n",
    "        \n",
    "        userCount = c.execute(\"SELECT COUNT(*) \" + \\\n",
    "                               \"FROM elementLabels el JOIN elements e \" + \\\n",
    "                                   \"ON e.elementId = el.elementId \" + \\\n",
    "                                \"WHERE e.taskId = ? AND el.userId = ?\", \n",
    "                           (taskId, labelerId)).fetchone()\n",
    "        userLabelCounts[labelerId] = userCount[0]\n",
    "        print(\"\\t\", name, \" - \", userCount[0], \"Labels\")\n",
    "        \n",
    "        \n",
    "    # Get the tweet IDs for each label\n",
    "    dataSamples = []\n",
    "    elementAndLabelList = c.execute(\"SELECT el.elementId, el.labelId, el.userId, \" + \\\n",
    "                                    \"e.externalId, l.labelText, l.taskId, e.elementText, \" + \\\n",
    "                                    \"u.screenname \" + \\\n",
    "                                    \"FROM elementLabels el JOIN elements e \" + \\\n",
    "                                    \"ON e.elementId = el.elementId \" + \\\n",
    "                                    \"JOIN labels l ON el.labelId = l.labelId \" + \\\n",
    "                                    \"JOIN users u ON el.userId = u.userId \" + \\\n",
    "                                    \"WHERE e.taskId = ?\", (taskId, )).fetchall()\n",
    "    # For each element in the row, convert it to a map and add it to our \n",
    "    #  list of samples. NOTE: If you want to add text here\n",
    "    for row in elementAndLabelList:\n",
    "        dataSample = {\n",
    "            \"external_id\": row[3],\n",
    "            \"label\": row[4],\n",
    "            \"user_id\": row[2],\n",
    "            \"username\": row[7],\n",
    "            \"text\": row[6],\n",
    "        }\n",
    "        dataSamples.append(dataSample)\n",
    "\n",
    "        \n",
    "    labelDf = pd.DataFrame(dataSamples)\n",
    "    \n",
    "    # Add \"text\" to the list below to add text to the resulting CSV\n",
    "    labelDf[[\"external_id\", \"user_id\", \"username\", \"label\"]].\\\n",
    "        sort_values(by=\"external_id\").\\\n",
    "        to_csv(\"task_id_%03d.csv\" % taskId, index=False)\n",
    "    "
   ]
  },
  {
   "cell_type": "code",
   "execution_count": null,
   "metadata": {
    "collapsed": false
   },
   "outputs": [],
   "source": [
    "labelerList"
   ]
  },
  {
   "cell_type": "code",
   "execution_count": null,
   "metadata": {
    "collapsed": true
   },
   "outputs": [],
   "source": []
  }
 ],
 "metadata": {
  "kernelspec": {
   "display_name": "Python 3",
   "language": "python",
   "name": "python3"
  },
  "language_info": {
   "codemirror_mode": {
    "name": "ipython",
    "version": 3
   },
   "file_extension": ".py",
   "mimetype": "text/x-python",
   "name": "python",
   "nbconvert_exporter": "python",
   "pygments_lexer": "ipython3",
   "version": "3.6.0"
  }
 },
 "nbformat": 4,
 "nbformat_minor": 0
}
